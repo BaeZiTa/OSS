{
  "nbformat": 4,
  "nbformat_minor": 0,
  "metadata": {
    "colab": {
      "provenance": [],
      "authorship_tag": "ABX9TyNalCyoVdlLwIdbhXZFeoHH",
      "include_colab_link": true
    },
    "kernelspec": {
      "name": "python3",
      "display_name": "Python 3"
    },
    "language_info": {
      "name": "python"
    }
  },
  "cells": [
    {
      "cell_type": "markdown",
      "metadata": {
        "id": "view-in-github",
        "colab_type": "text"
      },
      "source": [
        "<a href=\"https://colab.research.google.com/github/BaeZiTa/OSS/blob/main/mycalculator.ipynb\" target=\"_parent\"><img src=\"https://colab.research.google.com/assets/colab-badge.svg\" alt=\"Open In Colab\"/></a>"
      ]
    },
    {
      "cell_type": "code",
      "execution_count": 7,
      "metadata": {
        "id": "wzc0MW0RSkfT",
        "colab": {
          "base_uri": "https://localhost:8080/"
        },
        "outputId": "2890b557-4b14-40f6-d988-71d487308e24"
      },
      "outputs": [
        {
          "output_type": "stream",
          "name": "stdout",
          "text": [
            "Writing mycalc/calculator.py\n"
          ]
        }
      ],
      "source": [
        "%%writefile mycalc/calculator.py\n",
        "\n",
        "def add(x, y):\n",
        "  return x + y\n",
        "\n",
        "def subtract(x, y):\n",
        "  return x - y\n",
        "\n",
        "def multiply(x, y):\n",
        "  return x * y\n",
        "\n",
        "def divide(x, y):\n",
        "  return x / y"
      ]
    },
    {
      "cell_type": "markdown",
      "source": [
        "Writing mycalc/calculator.py"
      ],
      "metadata": {
        "id": "puYY2AdTUlkl"
      }
    },
    {
      "cell_type": "code",
      "source": [
        "%%writefile setup.py\n",
        "import setuptools\n",
        "\n",
        "setuptools.setup (\n",
        "    name = 'ZiTa',\n",
        "    version = '0.0.1',\n",
        "    description = 'oss-calculator',\n",
        "    author = 'Bae Jun Yeong',\n",
        "    url = \"https://github.com/BaeZiTa/calc0001\"\n",
        "    download_url = \"https://github/BaeZiTa/calc0001/archive/refs/tags/v0.0.1.zip\",\n",
        "    packages = []\n",
        "    classifiers = {\n",
        "      \"Programming Language :: 3\",\n",
        "      \"Operating System :: OS Independent\",\n",
        "    },\n",
        ")"
      ],
      "metadata": {
        "id": "_hgH5BZsTulE",
        "colab": {
          "base_uri": "https://localhost:8080/"
        },
        "outputId": "53a80199-30f5-4929-8066-9d5019f08994"
      },
      "execution_count": 2,
      "outputs": [
        {
          "output_type": "stream",
          "name": "stdout",
          "text": [
            "Writing setup.py\n"
          ]
        }
      ]
    },
    {
      "cell_type": "code",
      "source": [
        "!python setup.py bdist_wheel"
      ],
      "metadata": {
        "colab": {
          "base_uri": "https://localhost:8080/"
        },
        "id": "qH_wU7wpVt32",
        "outputId": "b715ccc6-fe3a-4401-abe0-8bb5c1b8fe49"
      },
      "execution_count": 6,
      "outputs": [
        {
          "output_type": "stream",
          "name": "stdout",
          "text": [
            "  File \"/content/setup.py\", line 5\n",
            "    version = '0.0.1'\n",
            "    ^\n",
            "SyntaxError: invalid syntax\n"
          ]
        }
      ]
    }
  ]
}