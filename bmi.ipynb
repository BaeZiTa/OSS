{
  "nbformat": 4,
  "nbformat_minor": 0,
  "metadata": {
    "colab": {
      "provenance": [],
      "authorship_tag": "ABX9TyOVOvxiB3MFWNZWBrVHSqd6",
      "include_colab_link": true
    },
    "kernelspec": {
      "name": "python3",
      "display_name": "Python 3"
    },
    "language_info": {
      "name": "python"
    }
  },
  "cells": [
    {
      "cell_type": "markdown",
      "metadata": {
        "id": "view-in-github",
        "colab_type": "text"
      },
      "source": [
        "<a href=\"https://colab.research.google.com/github/BaeZiTa/OSS/blob/main/bmi.ipynb\" target=\"_parent\"><img src=\"https://colab.research.google.com/assets/colab-badge.svg\" alt=\"Open In Colab\"/></a>"
      ]
    },
    {
      "cell_type": "markdown",
      "source": [
        "# bmi\n",
        "\n",
        "*   one of them is mine ⛄\n",
        "\n",
        "\n",
        "---\n",
        "\n"
      ],
      "metadata": {
        "id": "MZPl5clOA_ec"
      }
    },
    {
      "cell_type": "code",
      "source": [
        "import numpy as np"
      ],
      "metadata": {
        "id": "L4BRV2rLD3yk"
      },
      "execution_count": 22,
      "outputs": []
    },
    {
      "cell_type": "code",
      "execution_count": 23,
      "metadata": {
        "id": "H9_IIVjdAKu8"
      },
      "outputs": [],
      "source": [
        "height = [170, 180, 177, 183, 192]\n",
        "weight = [45, 72, 54, 83, 101]\n",
        "bmi = []"
      ]
    },
    {
      "cell_type": "code",
      "source": [
        "for i in range(5):\n",
        "    bmi.append(weight[i] / (height[i] / 100) ** 2)"
      ],
      "metadata": {
        "id": "HYBKwR8fBTep"
      },
      "execution_count": 24,
      "outputs": []
    },
    {
      "cell_type": "code",
      "source": [
        "print(bmi)\n",
        "print(np.round(bmi, 1))"
      ],
      "metadata": {
        "colab": {
          "base_uri": "https://localhost:8080/"
        },
        "id": "GUZ6NizrC8h2",
        "outputId": "272b361b-9889-4987-f592-60db6d28a81d"
      },
      "execution_count": 25,
      "outputs": [
        {
          "output_type": "stream",
          "name": "stdout",
          "text": [
            "[15.570934256055365, 22.22222222222222, 17.236426314277505, 24.78425751739377, 27.39800347222222]\n",
            "[15.6 22.2 17.2 24.8 27.4]\n"
          ]
        }
      ]
    }
  ]
}