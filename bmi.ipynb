{
  "nbformat": 4,
  "nbformat_minor": 0,
  "metadata": {
    "colab": {
      "provenance": [],
      "toc_visible": true,
      "authorship_tag": "ABX9TyO+fhyAJCP7qdr+9Licb1+R",
      "include_colab_link": true
    },
    "kernelspec": {
      "name": "python3",
      "display_name": "Python 3"
    },
    "language_info": {
      "name": "python"
    }
  },
  "cells": [
    {
      "cell_type": "markdown",
      "metadata": {
        "id": "view-in-github",
        "colab_type": "text"
      },
      "source": [
        "<a href=\"https://colab.research.google.com/github/BaeZiTa/OSS/blob/main/bmi.ipynb\" target=\"_parent\"><img src=\"https://colab.research.google.com/assets/colab-badge.svg\" alt=\"Open In Colab\"/></a>"
      ]
    },
    {
      "cell_type": "markdown",
      "source": [
        "# bmi\n",
        "\n",
        "*   one of them is mine ⛄\n",
        "*   Lotte Giants Baseball player's information\n",
        "\n",
        "\n",
        "\n",
        "---\n",
        "\n"
      ],
      "metadata": {
        "id": "MZPl5clOA_ec"
      }
    },
    {
      "cell_type": "code",
      "source": [
        "import numpy as np\n",
        "import matplotlib.pyplot as plt"
      ],
      "metadata": {
        "id": "L4BRV2rLD3yk"
      },
      "execution_count": null,
      "outputs": []
    },
    {
      "cell_type": "code",
      "execution_count": null,
      "metadata": {
        "id": "H9_IIVjdAKu8"
      },
      "outputs": [],
      "source": [
        "height = [170, 194, 172, 182, 189, 184, 182, 197, 189, 185, 185]\n",
        "weight = [45, 128, 70, 85, 91, 98, 105, 90, 99, 90, 85]\n",
        "bmi = []"
      ]
    },
    {
      "cell_type": "code",
      "source": [
        "for i in range(len(height)):\n",
        "    bmi.append(weight[i] / (height[i] / 100) ** 2)"
      ],
      "metadata": {
        "id": "HYBKwR8fBTep"
      },
      "execution_count": null,
      "outputs": []
    },
    {
      "cell_type": "code",
      "source": [
        "print(bmi)\n",
        "print(np.round(bmi, 1))"
      ],
      "metadata": {
        "colab": {
          "base_uri": "https://localhost:8080/"
        },
        "id": "GUZ6NizrC8h2",
        "outputId": "9943eea4-4386-41a2-fcc4-970ab5405ce7"
      },
      "execution_count": null,
      "outputs": [
        {
          "output_type": "stream",
          "name": "stdout",
          "text": [
            "[15.570934256055365, 34.009990434690195, 23.661438615467823, 25.661152034778407, 25.475210660395845, 28.946124763705104, 31.69907016060862, 23.19049704965343, 27.714789619551524, 26.296566837107374, 24.835646457268076]\n",
            "[15.6 34.  23.7 25.7 25.5 28.9 31.7 23.2 27.7 26.3 24.8]\n"
          ]
        }
      ]
    },
    {
      "cell_type": "code",
      "source": [
        "plt.hist(bmi)\n",
        "plt.show()"
      ],
      "metadata": {
        "colab": {
          "base_uri": "https://localhost:8080/",
          "height": 265
        },
        "id": "4xqieZCKElv0",
        "outputId": "f30d3360-4069-454f-c8bc-f79b040ad236"
      },
      "execution_count": null,
      "outputs": [
        {
          "output_type": "display_data",
          "data": {
            "text/plain": [
              "<Figure size 432x288 with 1 Axes>"
            ],
            "image/png": "[encoded data removed]"
          },
          "metadata": {
            "needs_background": "light"
          }
        }
      ]
    }
  ]
}